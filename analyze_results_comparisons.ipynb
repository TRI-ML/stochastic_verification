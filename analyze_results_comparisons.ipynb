{
 "cells": [
  {
   "cell_type": "markdown",
   "metadata": {},
   "source": [
    "# Policy Comparison"
   ]
  },
  {
   "cell_type": "code",
   "execution_count": 1,
   "metadata": {},
   "outputs": [],
   "source": [
    "import numpy as np\n",
    "from binomial_cis import binom_ci"
   ]
  },
  {
   "cell_type": "markdown",
   "metadata": {},
   "source": [
    "### Load Data"
   ]
  },
  {
   "cell_type": "code",
   "execution_count": 2,
   "metadata": {},
   "outputs": [],
   "source": [
    "tasks = [\"Symbol\\nUnderstanding\", \"Reasoning\", \"Human\\nRecognition\"]\n",
    "n_tasks = len(tasks)\n",
    "\n",
    "n_rollouts = np.array([50, 110, 30])\n",
    "vc1_successes = np.array([6, 12, 4])\n",
    "rt2_successes = np.array([40, 53, 16])\n",
    "\n",
    "\n",
    "# get mc estimates of success rates\n",
    "mc_vc1 = vc1_successes / n_rollouts\n",
    "mc_rt2 = rt2_successes / n_rollouts"
   ]
  },
  {
   "cell_type": "markdown",
   "metadata": {},
   "source": [
    "### Solve for Confidence Intervals"
   ]
  },
  {
   "cell_type": "code",
   "execution_count": 3,
   "metadata": {},
   "outputs": [
    {
     "name": "stdout",
     "output_type": "stream",
     "text": [
      "Comuting upper confidence bound\n",
      "Comuting upper confidence bound\n",
      "Comuting upper confidence bound\n",
      "Comuting lower confidence bound\n",
      "Comuting lower confidence bound\n",
      "Comuting lower confidence bound\n"
     ]
    }
   ],
   "source": [
    "alpha = 1-np.sqrt(0.95) # miscoverage probability\n",
    "\n",
    "vc1_ubs = np.array([binom_ci(vc1_successes[i], n_rollouts[i], alpha, 'ub', randomized=True) for i in range(n_tasks)])\n",
    "rt2_lbs = np.array([binom_ci(rt2_successes[i], n_rollouts[i], alpha, 'lb', randomized=True) for i in range(n_tasks)])"
   ]
  },
  {
   "cell_type": "markdown",
   "metadata": {},
   "source": [
    "### Plot Results"
   ]
  },
  {
   "cell_type": "code",
   "execution_count": 4,
   "metadata": {},
   "outputs": [
    {
     "data": {
      "image/png": "[encoded data removed]",
      "text/plain": [
       "<Figure size 400x300 with 1 Axes>"
      ]
     },
     "metadata": {},
     "output_type": "display_data"
    }
   ],
   "source": [
    "import matplotlib.pyplot as plt \n",
    "\n",
    "fig = plt.figure(figsize = (4, 3))\n",
    " \n",
    "# creating the bar plot\n",
    "plt.bar(tasks, 1-rt2_lbs, color ='cornflowerblue', alpha=0.8, width = 0.6, bottom=rt2_lbs, label=\"RT-2\")\n",
    "plt.axhline(y=mc_rt2[0], xmin = 0.05, xmax = 0.25, linestyle=\"--\", color=\"black\") \n",
    "plt.axhline(y=mc_rt2[1], xmin = 0.4, xmax = 0.6, linestyle=\"--\", color=\"black\") \n",
    "plt.axhline(y=mc_rt2[2], xmin = 0.75, xmax = 0.95, linestyle=\"--\", color=\"black\") \n",
    "\n",
    "plt.bar(tasks, vc1_ubs, color ='mediumpurple', width = 0.6, label=\"VC-1\")\n",
    "plt.axhline(y=mc_vc1[0], xmin = 0.05, xmax = 0.25, linestyle=\"--\", color=\"black\") \n",
    "plt.axhline(y=mc_vc1[1], xmin = 0.4, xmax = 0.6, linestyle=\"--\", color=\"black\") \n",
    "plt.axhline(y=mc_vc1[2], xmin = 0.75, xmax = 0.95, linestyle=\"--\", color=\"black\") \n",
    "\n",
    "plt.ylim(0,1)\n",
    "plt.ylabel(\"Success Rate\", fontsize=12)\n",
    "plt.legend()\n",
    "plt.savefig(\"media/comparison.svg\")\n",
    "plt.show()"
   ]
  }
 ],
 "metadata": {
  "kernelspec": {
   "display_name": "stochastic_verification",
   "language": "python",
   "name": "python3"
  },
  "language_info": {
   "codemirror_mode": {
    "name": "ipython",
    "version": 3
   },
   "file_extension": ".py",
   "mimetype": "text/x-python",
   "name": "python",
   "nbconvert_exporter": "python",
   "pygments_lexer": "ipython3",
   "version": "3.9.18"
  }
 },
 "nbformat": 4,
 "nbformat_minor": 2
}
