{
 "cells": [
  {
   "cell_type": "markdown",
   "metadata": {},
   "source": [
    "# Hardware Experiments"
   ]
  },
  {
   "cell_type": "markdown",
   "metadata": {},
   "source": [
    "## Load Data"
   ]
  },
  {
   "cell_type": "code",
   "execution_count": 5,
   "metadata": {
    "metadata": {}
   },
   "outputs": [
    {
     "name": "stdout",
     "output_type": "stream",
     "text": [
      "Pour Ice OOD Good: 38.0  successes out of  50  trials ( 76.0 %)\n",
      "Pour Ice OOD Bad:   4.0  successes out of  50  trials (  8.0 %)\n"
     ]
    }
   ],
   "source": [
    "import numpy as np\n",
    "\n",
    "# create empty arrays\n",
    "pour_good = np.zeros(50)\n",
    "pour_bad = np.zeros_like(pour_good)\n",
    "\n",
    "# fill arrays\n",
    "for i in range(len(pour_good)):\n",
    "    data = np.load(\"results/pour_ice/ood_good/episode_\" + str(i) + \"/summary.npz\")\n",
    "    pour_good[i] = data[\"episode_success\"]\n",
    "\n",
    "    data = np.load(\"hardware/pour_ice/ood_bad/episode_\" + str(i) + \"/summary.npz\")\n",
    "    pour_bad[i] = data[\"episode_success\"]\n",
    "\n",
    "print(\"Pour Ice OOD Good:\", sum(pour_good), \" successes out of \", len(pour_good), \" trials (\", np.mean(pour_good)*100, \"%)\")\n",
    "print(\"Pour Ice OOD Bad:  \", sum(pour_bad), \" successes out of \", len(pour_bad), \" trials ( \", np.mean(pour_bad)*100, \"%)\")"
   ]
  },
  {
   "cell_type": "code",
   "execution_count": 6,
   "metadata": {
    "metadata": {}
   },
   "outputs": [
    {
     "name": "stdout",
     "output_type": "stream",
     "text": [
      "Pour Ice OOD Good Lower Bound: 0.6513\n",
      "Pour Ice OOD Bad Lower Bound:  0.0297\n"
     ]
    }
   ],
   "source": [
    "from binomial_cis import binom_ci\n",
    "\n",
    "alpha = 0.05\n",
    "lb_pour_good = binom_ci(sum(pour_good), len(pour_good), alpha, 'lb', verbose=False)\n",
    "lb_pour_bad = binom_ci(sum(pour_bad), len(pour_bad), alpha, 'lb', verbose=False)\n",
    "\n",
    "print(\"Pour Ice OOD Good Lower Bound:\", round(lb_pour_good, 4))\n",
    "print(\"Pour Ice OOD Bad Lower Bound: \", round(lb_pour_bad, 4))"
   ]
  }
 ],
 "metadata": {
  "kernelspec": {
   "display_name": "stochastic_verification",
   "language": "python",
   "name": "python3"
  },
  "language_info": {
   "codemirror_mode": {
    "name": "ipython",
    "version": 3
   },
   "file_extension": ".py",
   "mimetype": "text/x-python",
   "name": "python",
   "nbconvert_exporter": "python",
   "pygments_lexer": "ipython3",
   "version": "3.9.15"
  }
 },
 "nbformat": 4,
 "nbformat_minor": 2
}
